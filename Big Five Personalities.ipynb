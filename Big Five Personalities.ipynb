{
 "cells": [
  {
   "cell_type": "code",
   "execution_count": 6,
   "metadata": {},
   "outputs": [
    {
     "name": "stdout",
     "output_type": "stream",
     "text": [
      "   EXT1  EXT2  EXT3  EXT4  EXT5  EXT6  EXT7  EXT8  EXT9  EXT10  ...  \\\n",
      "0   4.0   1.0   5.0   2.0   5.0   1.0   5.0   2.0   4.0    1.0  ...   \n",
      "1   3.0   5.0   3.0   4.0   3.0   3.0   2.0   5.0   1.0    5.0  ...   \n",
      "2   2.0   3.0   4.0   4.0   3.0   2.0   1.0   3.0   2.0    5.0  ...   \n",
      "3   2.0   2.0   2.0   3.0   4.0   2.0   2.0   4.0   1.0    4.0  ...   \n",
      "4   3.0   3.0   3.0   3.0   5.0   3.0   3.0   5.0   3.0    4.0  ...   \n",
      "\n",
      "              dateload  screenw  screenh  introelapse  testelapse  endelapse  \\\n",
      "0  2016-03-03 02:01:01    768.0   1024.0          9.0       234.0          6   \n",
      "1  2016-03-03 02:01:20   1360.0    768.0         12.0       179.0         11   \n",
      "2  2016-03-03 02:01:56   1366.0    768.0          3.0       186.0          7   \n",
      "3  2016-03-03 02:02:02   1920.0   1200.0        186.0       219.0          7   \n",
      "4  2016-03-03 02:02:57   1366.0    768.0          8.0       315.0         17   \n",
      "\n",
      "   IPC  country  lat_appx_lots_of_err  long_appx_lots_of_err  \n",
      "0    1       GB               51.5448                 0.1991  \n",
      "1    1       MY                3.1698                101.706  \n",
      "2    1       GB               54.9119                -1.3833  \n",
      "3    1       GB                 51.75                  -1.25  \n",
      "4    2       KE                   1.0                   38.0  \n",
      "\n",
      "[5 rows x 110 columns]\n"
     ]
    }
   ],
   "source": [
    "import pandas as pd\n",
    "import numpy as np\n",
    "import matplotlib.pyplot as plt\n",
    "\n",
    "big_five = pd.read_csv('D:/id_ahnugroho/Learning/Project/6.big-five-personality-test/big-five-personality-test/IPIP-FFM-data-8Nov2018/data-final.csv',sep ='\\t')\n",
    "print(big_five.head())"
   ]
  },
  {
   "cell_type": "code",
   "execution_count": 11,
   "metadata": {
    "scrolled": true
   },
   "outputs": [
    {
     "data": {
      "text/plain": [
       "['EXT1',\n",
       " 'EXT2',\n",
       " 'EXT3',\n",
       " 'EXT4',\n",
       " 'EXT5',\n",
       " 'EXT6',\n",
       " 'EXT7',\n",
       " 'EXT8',\n",
       " 'EXT9',\n",
       " 'EXT10',\n",
       " 'EST1',\n",
       " 'EST2',\n",
       " 'EST3',\n",
       " 'EST4',\n",
       " 'EST5',\n",
       " 'EST6',\n",
       " 'EST7',\n",
       " 'EST8',\n",
       " 'EST9',\n",
       " 'EST10',\n",
       " 'AGR1',\n",
       " 'AGR2',\n",
       " 'AGR3',\n",
       " 'AGR4',\n",
       " 'AGR5',\n",
       " 'AGR6',\n",
       " 'AGR7',\n",
       " 'AGR8',\n",
       " 'AGR9',\n",
       " 'AGR10',\n",
       " 'CSN1',\n",
       " 'CSN2',\n",
       " 'CSN3',\n",
       " 'CSN4',\n",
       " 'CSN5',\n",
       " 'CSN6',\n",
       " 'CSN7',\n",
       " 'CSN8',\n",
       " 'CSN9',\n",
       " 'CSN10',\n",
       " 'OPN1',\n",
       " 'OPN2',\n",
       " 'OPN3',\n",
       " 'OPN4',\n",
       " 'OPN5',\n",
       " 'OPN6',\n",
       " 'OPN7',\n",
       " 'OPN8',\n",
       " 'OPN9',\n",
       " 'OPN10',\n",
       " 'EXT1_E',\n",
       " 'EXT2_E',\n",
       " 'EXT3_E',\n",
       " 'EXT4_E',\n",
       " 'EXT5_E',\n",
       " 'EXT6_E',\n",
       " 'EXT7_E',\n",
       " 'EXT8_E',\n",
       " 'EXT9_E',\n",
       " 'EXT10_E',\n",
       " 'EST1_E',\n",
       " 'EST2_E',\n",
       " 'EST3_E',\n",
       " 'EST4_E',\n",
       " 'EST5_E',\n",
       " 'EST6_E',\n",
       " 'EST7_E',\n",
       " 'EST8_E',\n",
       " 'EST9_E',\n",
       " 'EST10_E',\n",
       " 'AGR1_E',\n",
       " 'AGR2_E',\n",
       " 'AGR3_E',\n",
       " 'AGR4_E',\n",
       " 'AGR5_E',\n",
       " 'AGR6_E',\n",
       " 'AGR7_E',\n",
       " 'AGR8_E',\n",
       " 'AGR9_E',\n",
       " 'AGR10_E',\n",
       " 'CSN1_E',\n",
       " 'CSN2_E',\n",
       " 'CSN3_E',\n",
       " 'CSN4_E',\n",
       " 'CSN5_E',\n",
       " 'CSN6_E',\n",
       " 'CSN7_E',\n",
       " 'CSN8_E',\n",
       " 'CSN9_E',\n",
       " 'CSN10_E',\n",
       " 'OPN1_E',\n",
       " 'OPN2_E',\n",
       " 'OPN3_E',\n",
       " 'OPN4_E',\n",
       " 'OPN5_E',\n",
       " 'OPN6_E',\n",
       " 'OPN7_E',\n",
       " 'OPN8_E',\n",
       " 'OPN9_E',\n",
       " 'OPN10_E',\n",
       " 'dateload',\n",
       " 'screenw',\n",
       " 'screenh',\n",
       " 'introelapse',\n",
       " 'testelapse',\n",
       " 'endelapse',\n",
       " 'IPC',\n",
       " 'country',\n",
       " 'lat_appx_lots_of_err',\n",
       " 'long_appx_lots_of_err']"
      ]
     },
     "execution_count": 11,
     "metadata": {},
     "output_type": "execute_result"
    }
   ],
   "source": [
    "big_five.columns.values.tolist()"
   ]
  },
  {
   "cell_type": "code",
   "execution_count": 12,
   "metadata": {},
   "outputs": [],
   "source": [
    "positively_keyed = ['EXT1', 'EXT3', 'EXT5', 'EXT7', 'EXT9',\n",
    "                    'EST1', 'EST3', 'EST5', 'EST6', 'EST7', 'EST8', 'EST9', 'EST10',\n",
    "                    'AGR2', 'AGR4', 'AGR6', 'AGR8', 'AGR9', 'AGR10',\n",
    "                    'CSN1', 'CSN3', 'CSN5', 'CSN7', 'CSN9', 'CSN10', \n",
    "                    'OPN1', 'OPN3', 'OPN5', 'OPN7', 'OPN8', 'OPN9', 'OPN10']\n",
    "\n",
    "negatively_keyed = ['EXT2', 'EXT4', 'EXT6', 'EXT8', 'EXT10',\n",
    "                    'EST2', 'EST4',\n",
    "                    'AGR1', 'AGR3', 'AGR5', 'AGR7', \n",
    "                    'CSN2', 'CSN4', 'CSN6', 'CSN8', \n",
    "                    'OPN2', 'OPN4', 'OPN6']"
   ]
  },
  {
   "cell_type": "code",
   "execution_count": null,
   "metadata": {},
   "outputs": [],
   "source": [
    "big_five.dropna()"
   ]
  }
 ],
 "metadata": {
  "kernelspec": {
   "display_name": "Python 3",
   "language": "python",
   "name": "python3"
  },
  "language_info": {
   "codemirror_mode": {
    "name": "ipython",
    "version": 3
   },
   "file_extension": ".py",
   "mimetype": "text/x-python",
   "name": "python",
   "nbconvert_exporter": "python",
   "pygments_lexer": "ipython3",
   "version": "3.7.4"
  }
 },
 "nbformat": 4,
 "nbformat_minor": 2
}
